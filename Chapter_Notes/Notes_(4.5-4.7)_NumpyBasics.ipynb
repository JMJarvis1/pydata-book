{
 "cells": [
  {
   "cell_type": "code",
   "execution_count": 1,
   "id": "3b0a92f8-3002-4f14-9214-12f2e328d06a",
   "metadata": {},
   "outputs": [
    {
     "data": {
      "text/plain": [
       "'\\n\\n\\n <<< 4.5 File Input with Output Arrays >>>\\n\\n\\n\\n'"
      ]
     },
     "execution_count": 1,
     "metadata": {},
     "output_type": "execute_result"
    }
   ],
   "source": [
    "\"\"\"\n",
    "\n",
    "\n",
    " <<< 4.5 File Input with Output Arrays >>>\n",
    "\n",
    "\n",
    "\n",
    "\"\"\""
   ]
  },
  {
   "cell_type": "code",
   "execution_count": 2,
   "id": "1af8f7e7-249f-4738-b229-3d123579e9d4",
   "metadata": {},
   "outputs": [],
   "source": [
    "import numpy as np\n",
    "import matplotlib.pyplot as plt\n",
    "rng = np.random.default_rng(seed=12345)"
   ]
  },
  {
   "cell_type": "code",
   "execution_count": 3,
   "id": "b11e6014-7c88-45f5-aad5-50ae29049a02",
   "metadata": {},
   "outputs": [],
   "source": [
    "arr = np.arange(10)"
   ]
  },
  {
   "cell_type": "code",
   "execution_count": 4,
   "id": "a989259a-370b-494d-9031-1afd556af96d",
   "metadata": {},
   "outputs": [],
   "source": [
    "np.save(\"some_array\", arr)"
   ]
  },
  {
   "cell_type": "code",
   "execution_count": 5,
   "id": "cbac1dd4-d0ab-4656-91e1-d641b8f83759",
   "metadata": {},
   "outputs": [
    {
     "data": {
      "text/plain": [
       "array([0, 1, 2, 3, 4, 5, 6, 7, 8, 9])"
      ]
     },
     "execution_count": 5,
     "metadata": {},
     "output_type": "execute_result"
    }
   ],
   "source": [
    "np.load(\"some_array.npy\")"
   ]
  },
  {
   "cell_type": "code",
   "execution_count": 6,
   "id": "761e8fd4-c31a-4b07-9d2d-cd951f36808c",
   "metadata": {},
   "outputs": [],
   "source": [
    "np.savez(\"array_archive.npz\", a=arr, b=arr)"
   ]
  },
  {
   "cell_type": "code",
   "execution_count": 7,
   "id": "0cd22955-dfa6-45ac-beb2-f9bc0830ac7c",
   "metadata": {},
   "outputs": [],
   "source": [
    "arch = np.load(\"array_archive.npz\")"
   ]
  },
  {
   "cell_type": "code",
   "execution_count": 8,
   "id": "3ad7290a-e57e-457e-8932-cc769798c14c",
   "metadata": {},
   "outputs": [
    {
     "data": {
      "text/plain": [
       "array([0, 1, 2, 3, 4, 5, 6, 7, 8, 9])"
      ]
     },
     "execution_count": 8,
     "metadata": {},
     "output_type": "execute_result"
    }
   ],
   "source": [
    "arch[\"b\"]"
   ]
  },
  {
   "cell_type": "code",
   "execution_count": 9,
   "id": "9a0f3a8b-6f9b-4be6-acf8-bde5ac35c355",
   "metadata": {},
   "outputs": [],
   "source": [
    "np.savez_compressed(\"arrays_compressed.npz\", a=arr, b=arr)"
   ]
  },
  {
   "cell_type": "code",
   "execution_count": 10,
   "id": "f9d4cb40-32a9-40aa-b8a2-cdcd12f2b47a",
   "metadata": {},
   "outputs": [],
   "source": [
    "arch2 = np.load(\"arrays_compressed.npz\")"
   ]
  },
  {
   "cell_type": "code",
   "execution_count": 11,
   "id": "df8717cf-799d-4133-a613-3e172d9e33db",
   "metadata": {},
   "outputs": [
    {
     "data": {
      "text/plain": [
       "array([0, 1, 2, 3, 4, 5, 6, 7, 8, 9])"
      ]
     },
     "execution_count": 11,
     "metadata": {},
     "output_type": "execute_result"
    }
   ],
   "source": [
    "arch2[\"a\"]"
   ]
  },
  {
   "cell_type": "code",
   "execution_count": 12,
   "id": "b02a5e1d-3f64-4e0a-93b9-7baa156215b0",
   "metadata": {},
   "outputs": [
    {
     "data": {
      "text/plain": [
       "'\\n\\n\\n <<< 4.6 Linear Algebra  >>>\\n\\n\\n\\n'"
      ]
     },
     "execution_count": 12,
     "metadata": {},
     "output_type": "execute_result"
    }
   ],
   "source": [
    "\"\"\"\n",
    "\n",
    "\n",
    " <<< 4.6 Linear Algebra  >>>\n",
    "\n",
    "\n",
    "\n",
    "\"\"\""
   ]
  },
  {
   "cell_type": "code",
   "execution_count": 13,
   "id": "4cbfe4fb-5271-4d52-8418-1aade68ae4b9",
   "metadata": {},
   "outputs": [],
   "source": [
    "x = np.array([[1., 2., 3.], [4.,5.,6.]])"
   ]
  },
  {
   "cell_type": "code",
   "execution_count": 14,
   "id": "7db90336-86a5-4ffa-bca2-78774fa472d1",
   "metadata": {},
   "outputs": [],
   "source": [
    "y = np.array([[6., 23.],[-1, 7], [8, 9]])"
   ]
  },
  {
   "cell_type": "code",
   "execution_count": 15,
   "id": "fb99e073-289a-4b85-ae9f-3af141b86ede",
   "metadata": {},
   "outputs": [
    {
     "data": {
      "text/plain": [
       "array([[1., 2., 3.],\n",
       "       [4., 5., 6.]])"
      ]
     },
     "execution_count": 15,
     "metadata": {},
     "output_type": "execute_result"
    }
   ],
   "source": [
    "x"
   ]
  },
  {
   "cell_type": "code",
   "execution_count": 16,
   "id": "da1a553f-ccd2-4fa4-9dc5-7379befb9283",
   "metadata": {},
   "outputs": [
    {
     "data": {
      "text/plain": [
       "array([[ 6., 23.],\n",
       "       [-1.,  7.],\n",
       "       [ 8.,  9.]])"
      ]
     },
     "execution_count": 16,
     "metadata": {},
     "output_type": "execute_result"
    }
   ],
   "source": [
    "y"
   ]
  },
  {
   "cell_type": "code",
   "execution_count": 17,
   "id": "1deb32d5-7aab-4c1b-905e-7627c514bc26",
   "metadata": {},
   "outputs": [
    {
     "data": {
      "text/plain": [
       "array([[1., 4.],\n",
       "       [2., 5.],\n",
       "       [3., 6.]])"
      ]
     },
     "execution_count": 17,
     "metadata": {},
     "output_type": "execute_result"
    }
   ],
   "source": [
    "x.T"
   ]
  },
  {
   "cell_type": "code",
   "execution_count": 18,
   "id": "40187110-548b-4431-9d29-80616a61bd2c",
   "metadata": {},
   "outputs": [
    {
     "data": {
      "text/plain": [
       "array([[ 28.,  64.],\n",
       "       [ 67., 181.]])"
      ]
     },
     "execution_count": 18,
     "metadata": {},
     "output_type": "execute_result"
    }
   ],
   "source": [
    "x.dot(y)"
   ]
  },
  {
   "cell_type": "code",
   "execution_count": 19,
   "id": "a6ca5e52-7c1d-471f-8f70-c3595bb15374",
   "metadata": {},
   "outputs": [
    {
     "data": {
      "text/plain": [
       "array([[ 28.,  64.],\n",
       "       [ 67., 181.]])"
      ]
     },
     "execution_count": 19,
     "metadata": {},
     "output_type": "execute_result"
    }
   ],
   "source": [
    "np.dot(x, y)"
   ]
  },
  {
   "cell_type": "code",
   "execution_count": 20,
   "id": "6c0648b4-2dfa-45b6-9b89-c7c333061a26",
   "metadata": {},
   "outputs": [
    {
     "data": {
      "text/plain": [
       "array([[ 98., 127., 156.],\n",
       "       [ 27.,  33.,  39.],\n",
       "       [ 44.,  61.,  78.]])"
      ]
     },
     "execution_count": 20,
     "metadata": {},
     "output_type": "execute_result"
    }
   ],
   "source": [
    "y.dot(x)"
   ]
  },
  {
   "cell_type": "code",
   "execution_count": 21,
   "id": "d7a66596-2f9d-4986-abfb-836842fc4ec2",
   "metadata": {},
   "outputs": [
    {
     "data": {
      "text/plain": [
       "array([[ 98., 127., 156.],\n",
       "       [ 27.,  33.,  39.],\n",
       "       [ 44.,  61.,  78.]])"
      ]
     },
     "execution_count": 21,
     "metadata": {},
     "output_type": "execute_result"
    }
   ],
   "source": [
    "np.dot(y,x)"
   ]
  },
  {
   "cell_type": "code",
   "execution_count": 22,
   "id": "b8bf5ac4-efd3-4bf9-a8e0-80a0a670b441",
   "metadata": {},
   "outputs": [
    {
     "data": {
      "text/plain": [
       "array([ 6., 15.])"
      ]
     },
     "execution_count": 22,
     "metadata": {},
     "output_type": "execute_result"
    }
   ],
   "source": [
    "x @ np.ones(3)"
   ]
  },
  {
   "cell_type": "code",
   "execution_count": 23,
   "id": "f389728a-4ad3-4a45-8f34-e399248dc7a5",
   "metadata": {},
   "outputs": [],
   "source": [
    "from numpy.linalg import inv, qr"
   ]
  },
  {
   "cell_type": "code",
   "execution_count": 24,
   "id": "f81643c4-7b0e-44ed-85e7-3b33f5f9ca0b",
   "metadata": {},
   "outputs": [],
   "source": [
    "X = rng.standard_normal((5, 5,))"
   ]
  },
  {
   "cell_type": "code",
   "execution_count": 25,
   "id": "43382bca-670b-423a-b531-18481eb7f691",
   "metadata": {},
   "outputs": [],
   "source": [
    "mat = X.T @ X"
   ]
  },
  {
   "cell_type": "code",
   "execution_count": 26,
   "id": "ebc54a82-87d5-4c69-a319-d8575f23733d",
   "metadata": {},
   "outputs": [
    {
     "data": {
      "text/plain": [
       "array([[ 9.83867527,  1.04334204,  0.24651754,  0.04017965,  0.16391486],\n",
       "       [ 1.04334204,  5.11794735, -3.98521413,  0.99264687,  3.27464142],\n",
       "       [ 0.24651754, -3.98521413,  4.15026075, -2.41299778, -2.74788646],\n",
       "       [ 0.04017965,  0.99264687, -2.41299778,  3.97263789, -0.04472489],\n",
       "       [ 0.16391486,  3.27464142, -2.74788646, -0.04472489,  6.01956209]])"
      ]
     },
     "execution_count": 26,
     "metadata": {},
     "output_type": "execute_result"
    }
   ],
   "source": [
    "mat"
   ]
  },
  {
   "cell_type": "code",
   "execution_count": 27,
   "id": "b01ceeae-2b0d-4e17-a728-128b39502f15",
   "metadata": {},
   "outputs": [
    {
     "data": {
      "text/plain": [
       "array([[ 0.15548538, -0.36723081, -0.52638547, -0.2300642 , -0.04646089],\n",
       "       [-0.36723081,  2.54917814,  3.47827334,  1.48196722,  0.22206454],\n",
       "       [-0.52638547,  3.47827334,  5.46389554,  2.46214396,  0.63467543],\n",
       "       [-0.2300642 ,  1.48196722,  2.46214396,  1.38302896,  0.33430132],\n",
       "       [-0.04646089,  0.22206454,  0.63467543,  0.33430132,  0.33879566]])"
      ]
     },
     "execution_count": 27,
     "metadata": {},
     "output_type": "execute_result"
    }
   ],
   "source": [
    "inv(mat)"
   ]
  },
  {
   "cell_type": "code",
   "execution_count": 28,
   "id": "d6aef841-1452-43bd-87f7-fdc2e6962c0d",
   "metadata": {},
   "outputs": [
    {
     "data": {
      "text/plain": [
       "array([[ 1., -0.,  0.,  0., -0.],\n",
       "       [ 0.,  1., -0., -0., -0.],\n",
       "       [-0.,  0.,  1., -0.,  0.],\n",
       "       [-0.,  0.,  0.,  1.,  0.],\n",
       "       [ 0.,  0., -0., -0.,  1.]])"
      ]
     },
     "execution_count": 28,
     "metadata": {},
     "output_type": "execute_result"
    }
   ],
   "source": [
    "(mat @ inv(mat)).round()"
   ]
  },
  {
   "cell_type": "code",
   "execution_count": 29,
   "id": "e33488d7-f9a0-490e-b53d-c25db0607c81",
   "metadata": {},
   "outputs": [
    {
     "data": {
      "text/plain": [
       "'\\n\\n\\n <<< 4.6 Example: Random Walks >>>\\n\\n\\n\\n'"
      ]
     },
     "execution_count": 29,
     "metadata": {},
     "output_type": "execute_result"
    }
   ],
   "source": [
    "\"\"\"\n",
    "\n",
    "\n",
    " <<< 4.6 Example: Random Walks >>>\n",
    "\n",
    "\n",
    "\n",
    "\"\"\""
   ]
  },
  {
   "cell_type": "code",
   "execution_count": null,
   "id": "00c56820-eac0-4ce3-a5bd-c6acf9ff5faf",
   "metadata": {},
   "outputs": [],
   "source": []
  },
  {
   "cell_type": "code",
   "execution_count": 30,
   "id": "7c71db0b-c6e4-44b8-936a-e5c72916e438",
   "metadata": {},
   "outputs": [],
   "source": [
    "#! blockstart\n",
    "import random\n",
    "position = 0\n",
    "walk = [position]\n",
    "nsteps = 1000\n",
    "for _ in range(nsteps):\n",
    "    step = 1 if random.randint(0, 1) else -1\n",
    "    position += step\n",
    "    walk.append(position)\n",
    "#! blockend"
   ]
  },
  {
   "cell_type": "code",
   "execution_count": 31,
   "id": "69cc4da6-44c9-45ca-9081-b3809a98ff91",
   "metadata": {},
   "outputs": [
    {
     "data": {
      "text/plain": [
       "[<matplotlib.lines.Line2D at 0x748aa03814c0>]"
      ]
     },
     "execution_count": 31,
     "metadata": {},
     "output_type": "execute_result"
    },
    {
     "data": {
      "image/png": "[encoded data removed]",
      "text/plain": [
       "<Figure size 640x480 with 1 Axes>"
      ]
     },
     "metadata": {},
     "output_type": "display_data"
    }
   ],
   "source": [
    "plt.plot(walk[:100]) # Graph for pure-Python method."
   ]
  },
  {
   "cell_type": "code",
   "execution_count": 32,
   "id": "7613dd9b-488e-4f98-bae4-e0e1d9c532d1",
   "metadata": {},
   "outputs": [],
   "source": [
    "nsteps = 1000"
   ]
  },
  {
   "cell_type": "code",
   "execution_count": 33,
   "id": "20c00c8e-2538-4a60-89f1-a2532387d39f",
   "metadata": {},
   "outputs": [],
   "source": [
    "rng = np.random.default_rng(seed=12345) # fresh random generator"
   ]
  },
  {
   "cell_type": "code",
   "execution_count": 34,
   "id": "ceb334dd-49f8-401e-a320-be3775001495",
   "metadata": {},
   "outputs": [],
   "source": [
    "draws = rng.integers(0, 2, size=nsteps)"
   ]
  },
  {
   "cell_type": "code",
   "execution_count": 35,
   "id": "97d2cbb9-99d8-4641-b568-d1eb0d46804d",
   "metadata": {},
   "outputs": [],
   "source": [
    "steps = np.where(draws == 0, 1, -1)"
   ]
  },
  {
   "cell_type": "code",
   "execution_count": 36,
   "id": "2af16c51-f663-43c5-98ca-70b65ca6fca6",
   "metadata": {},
   "outputs": [],
   "source": [
    "walk = steps.cumsum()"
   ]
  },
  {
   "cell_type": "code",
   "execution_count": 37,
   "id": "6ca78912-df5f-4fb1-a487-be38e49783dd",
   "metadata": {},
   "outputs": [
    {
     "data": {
      "text/plain": [
       "-8"
      ]
     },
     "execution_count": 37,
     "metadata": {},
     "output_type": "execute_result"
    }
   ],
   "source": [
    "walk.min()"
   ]
  },
  {
   "cell_type": "code",
   "execution_count": 38,
   "id": "851b7c0a-bf25-4836-90fb-478b02acc533",
   "metadata": {},
   "outputs": [
    {
     "data": {
      "text/plain": [
       "50"
      ]
     },
     "execution_count": 38,
     "metadata": {},
     "output_type": "execute_result"
    }
   ],
   "source": [
    "walk.max()"
   ]
  },
  {
   "cell_type": "code",
   "execution_count": 39,
   "id": "378610ed-5d6a-45af-8676-37c802b44564",
   "metadata": {},
   "outputs": [
    {
     "data": {
      "text/plain": [
       "[<matplotlib.lines.Line2D at 0x748a9f7c3320>]"
      ]
     },
     "execution_count": 39,
     "metadata": {},
     "output_type": "execute_result"
    },
    {
     "data": {
      "image/png": "[encoded data removed]",
      "text/plain": [
       "<Figure size 640x480 with 1 Axes>"
      ]
     },
     "metadata": {},
     "output_type": "display_data"
    }
   ],
   "source": [
    "plt.plot(walk[:100])"
   ]
  },
  {
   "cell_type": "code",
   "execution_count": 40,
   "id": "33c5d6ce-6318-433c-a64f-fe46b4080157",
   "metadata": {},
   "outputs": [
    {
     "data": {
      "text/plain": [
       "155"
      ]
     },
     "execution_count": 40,
     "metadata": {},
     "output_type": "execute_result"
    }
   ],
   "source": [
    "(np.abs(walk) >= 10).argmax()"
   ]
  },
  {
   "cell_type": "code",
   "execution_count": 42,
   "id": "bf921fb5-cbe9-4d1d-a473-82fc4a9d1091",
   "metadata": {},
   "outputs": [],
   "source": [
    "# Simulating many random walks at once"
   ]
  },
  {
   "cell_type": "code",
   "execution_count": 43,
   "id": "77028f15-5a19-46a0-863b-15ff1dbdc412",
   "metadata": {},
   "outputs": [],
   "source": [
    "nwalks = 5000"
   ]
  },
  {
   "cell_type": "code",
   "execution_count": 44,
   "id": "1eac903e-6ef2-4f05-bfb7-368d7bf4d09c",
   "metadata": {},
   "outputs": [],
   "source": [
    "nsteps = 1000"
   ]
  },
  {
   "cell_type": "code",
   "execution_count": 47,
   "id": "7dcf84f5-71df-4a01-893f-4d9974428920",
   "metadata": {},
   "outputs": [],
   "source": [
    "draws = rng.integers(0, 2, size=(nwalks, nsteps)) # 0 or 1"
   ]
  },
  {
   "cell_type": "code",
   "execution_count": 48,
   "id": "ed1c7c35-a422-4d33-bf9d-fbab0d0201e2",
   "metadata": {},
   "outputs": [],
   "source": [
    "steps = np.where(draws > 0, 1, -1)"
   ]
  },
  {
   "cell_type": "code",
   "execution_count": 50,
   "id": "b369ef44-4a2b-4568-87cc-89ebd4de474b",
   "metadata": {},
   "outputs": [],
   "source": [
    "walks = steps.cumsum(axis=1)"
   ]
  },
  {
   "cell_type": "code",
   "execution_count": 51,
   "id": "86ec73f0-5e19-4506-ba41-8ef2df6dd48e",
   "metadata": {},
   "outputs": [
    {
     "data": {
      "text/plain": [
       "array([[  1,   2,   1, ..., -24, -25, -26],\n",
       "       [ -1,   0,  -1, ...,  -2,  -1,   0],\n",
       "       [  1,   0,   1, ..., -22, -23, -24],\n",
       "       ...,\n",
       "       [  1,   0,   1, ...,   0,   1,   0],\n",
       "       [ -1,  -2,  -3, ...,  78,  77,  78],\n",
       "       [  1,   2,   1, ..., -42, -41, -40]])"
      ]
     },
     "execution_count": 51,
     "metadata": {},
     "output_type": "execute_result"
    }
   ],
   "source": [
    "walks"
   ]
  },
  {
   "cell_type": "code",
   "execution_count": 52,
   "id": "6e8d8a9a-fb09-48ed-b7a2-1cc4105d4b43",
   "metadata": {},
   "outputs": [
    {
     "data": {
      "text/plain": [
       "143"
      ]
     },
     "execution_count": 52,
     "metadata": {},
     "output_type": "execute_result"
    }
   ],
   "source": [
    "walks.max()"
   ]
  },
  {
   "cell_type": "code",
   "execution_count": 55,
   "id": "3d08d8b5-cf4f-45fa-8db0-896a8b1c1bd4",
   "metadata": {},
   "outputs": [
    {
     "data": {
      "text/plain": [
       "-125"
      ]
     },
     "execution_count": 55,
     "metadata": {},
     "output_type": "execute_result"
    }
   ],
   "source": [
    "walks.min()"
   ]
  },
  {
   "cell_type": "code",
   "execution_count": 57,
   "id": "da8ca994-8244-4acd-9bbb-75aa19221d46",
   "metadata": {},
   "outputs": [],
   "source": [
    "hits30 = (np.abs(walks) >= 30).any(axis=1)"
   ]
  },
  {
   "cell_type": "code",
   "execution_count": 58,
   "id": "cf67be84-ed28-40ec-8f3e-37c629d1edd2",
   "metadata": {},
   "outputs": [
    {
     "data": {
      "text/plain": [
       "array([ True, False,  True, ..., False,  True,  True])"
      ]
     },
     "execution_count": 58,
     "metadata": {},
     "output_type": "execute_result"
    }
   ],
   "source": [
    "hits30"
   ]
  },
  {
   "cell_type": "code",
   "execution_count": 62,
   "id": "947adaae-fdc6-4464-a085-d4e2ed7163e1",
   "metadata": {},
   "outputs": [
    {
     "data": {
      "text/plain": [
       "3314"
      ]
     },
     "execution_count": 62,
     "metadata": {},
     "output_type": "execute_result"
    }
   ],
   "source": [
    "hits30.sum() # Number of walks that hit 30 or -30"
   ]
  },
  {
   "cell_type": "code",
   "execution_count": 63,
   "id": "fccaa685-eacc-4975-b038-ea6f49591a9c",
   "metadata": {},
   "outputs": [],
   "source": [
    "crossing_times = (np.abs(walks[hits30]) >= 30).argmax(axis=1)"
   ]
  },
  {
   "cell_type": "code",
   "execution_count": 64,
   "id": "a127fc03-caed-47b9-917a-172d63ef19aa",
   "metadata": {},
   "outputs": [
    {
     "data": {
      "text/plain": [
       "array([897, 187, 607, ..., 497, 363, 337])"
      ]
     },
     "execution_count": 64,
     "metadata": {},
     "output_type": "execute_result"
    }
   ],
   "source": [
    "crossing_times"
   ]
  },
  {
   "cell_type": "code",
   "execution_count": 65,
   "id": "78159a10-afa5-4cf4-8f96-a3f2bb1c8060",
   "metadata": {},
   "outputs": [
    {
     "data": {
      "text/plain": [
       "503.8135184067592"
      ]
     },
     "execution_count": 65,
     "metadata": {},
     "output_type": "execute_result"
    }
   ],
   "source": [
    "crossing_times.mean()"
   ]
  },
  {
   "cell_type": "code",
   "execution_count": 66,
   "id": "4a80c9e0-a56a-46e8-9c53-588eec5043b5",
   "metadata": {},
   "outputs": [],
   "source": [
    "draws = 0.25 * rng.standard_normal((nwalks, nsteps))"
   ]
  },
  {
   "cell_type": "code",
   "execution_count": 67,
   "id": "df9112f2-56ae-4065-9c2b-13e6c3d81943",
   "metadata": {},
   "outputs": [
    {
     "data": {
      "text/plain": [
       "array([[ 0.25255254,  0.02237851,  0.56152194, ..., -0.32402054,\n",
       "         0.17136955,  0.43201751],\n",
       "       [ 0.20229843, -0.33232789,  0.480806  , ...,  0.15222382,\n",
       "        -0.65893623,  0.04270046],\n",
       "       [ 0.10638631,  0.19632213,  0.02657526, ...,  0.23038594,\n",
       "        -0.50629087,  0.35575323],\n",
       "       ...,\n",
       "       [-0.02059152,  0.29333161,  0.19695568, ...,  0.14909193,\n",
       "         0.12535504,  0.13258885],\n",
       "       [ 0.27560059,  0.18019157, -0.06697167, ...,  0.09757493,\n",
       "        -0.05430105,  0.41164409],\n",
       "       [-0.30335954, -0.04538402,  0.16916437, ...,  0.20218806,\n",
       "        -0.05606116, -0.18746791]])"
      ]
     },
     "execution_count": 67,
     "metadata": {},
     "output_type": "execute_result"
    }
   ],
   "source": [
    "draws"
   ]
  },
  {
   "cell_type": "code",
   "execution_count": 68,
   "id": "1b474498-e9cc-405c-93db-56ea4ea8d7f7",
   "metadata": {},
   "outputs": [],
   "source": [
    "steps = np.where(draws > 0, 1, -1)"
   ]
  },
  {
   "cell_type": "code",
   "execution_count": 69,
   "id": "12fc5767-d463-4aef-af17-9f10157eead4",
   "metadata": {},
   "outputs": [],
   "source": [
    "walks = steps.cumsum(axis=1)"
   ]
  },
  {
   "cell_type": "code",
   "execution_count": 70,
   "id": "a283939d-3a07-4ecf-9e00-00a8a8097910",
   "metadata": {},
   "outputs": [
    {
     "data": {
      "text/plain": [
       "array([[  1,   2,   3, ..., -74, -73, -72],\n",
       "       [  1,   0,   1, ...,  18,  17,  18],\n",
       "       [  1,   2,   3, ...,  28,  27,  28],\n",
       "       ...,\n",
       "       [ -1,   0,   1, ...,  12,  13,  14],\n",
       "       [  1,   2,   1, ...,  32,  31,  32],\n",
       "       [ -1,  -2,  -1, ..., -46, -47, -48]])"
      ]
     },
     "execution_count": 70,
     "metadata": {},
     "output_type": "execute_result"
    }
   ],
   "source": [
    "walks"
   ]
  },
  {
   "cell_type": "code",
   "execution_count": 73,
   "id": "b366ea97-b585-47ec-84e6-c4827b980a53",
   "metadata": {},
   "outputs": [
    {
     "data": {
      "text/plain": [
       "117"
      ]
     },
     "execution_count": 73,
     "metadata": {},
     "output_type": "execute_result"
    }
   ],
   "source": [
    "walks.max()"
   ]
  },
  {
   "cell_type": "code",
   "execution_count": 74,
   "id": "ffc1ccd1-c3d4-4f44-8eca-cb0d437330b8",
   "metadata": {},
   "outputs": [
    {
     "data": {
      "text/plain": [
       "-118"
      ]
     },
     "execution_count": 74,
     "metadata": {},
     "output_type": "execute_result"
    }
   ],
   "source": [
    "walks.min()"
   ]
  },
  {
   "cell_type": "code",
   "execution_count": 78,
   "id": "241d0679-fea6-4b0f-8c81-acfa89100691",
   "metadata": {},
   "outputs": [],
   "source": [
    "hits30 = (np.abs(walks) >= 30).any(axis=1)"
   ]
  },
  {
   "cell_type": "code",
   "execution_count": 76,
   "id": "29c1982d-94db-460b-8924-555001b46a33",
   "metadata": {},
   "outputs": [
    {
     "data": {
      "text/plain": [
       "array([ True, False,  True, ..., False,  True,  True])"
      ]
     },
     "execution_count": 76,
     "metadata": {},
     "output_type": "execute_result"
    }
   ],
   "source": [
    "hits30"
   ]
  },
  {
   "cell_type": "code",
   "execution_count": 80,
   "id": "f1d207f1-9a98-4d9d-b9f2-c1b5622f7958",
   "metadata": {},
   "outputs": [
    {
     "data": {
      "text/plain": [
       "3443"
      ]
     },
     "execution_count": 80,
     "metadata": {},
     "output_type": "execute_result"
    }
   ],
   "source": [
    "hits30.sum()"
   ]
  },
  {
   "cell_type": "code",
   "execution_count": 85,
   "id": "603c4dbc-9ac1-47f8-8593-4846abac116c",
   "metadata": {},
   "outputs": [],
   "source": [
    "crossing_times = (np.abs(walks[hits30]) >= 30).argmax(axis=1)"
   ]
  },
  {
   "cell_type": "code",
   "execution_count": 86,
   "id": "02d52e4e-89ec-495d-9d1d-e587736b702d",
   "metadata": {},
   "outputs": [
    {
     "data": {
      "text/plain": [
       "array([223, 467, 885, ..., 467, 821, 753])"
      ]
     },
     "execution_count": 86,
     "metadata": {},
     "output_type": "execute_result"
    }
   ],
   "source": [
    "crossing_times"
   ]
  },
  {
   "cell_type": "code",
   "execution_count": 87,
   "id": "955404a8-94dd-4abe-9862-c4820213f9b1",
   "metadata": {},
   "outputs": [
    {
     "data": {
      "text/plain": [
       "505.1225675283183"
      ]
     },
     "execution_count": 87,
     "metadata": {},
     "output_type": "execute_result"
    }
   ],
   "source": [
    "crossing_times.mean()"
   ]
  },
  {
   "cell_type": "code",
   "execution_count": null,
   "id": "eb81cc32-fc15-4675-b09e-3c23e15fa8b5",
   "metadata": {},
   "outputs": [],
   "source": []
  }
 ],
 "metadata": {
  "kernelspec": {
   "display_name": "Python 3 (ipykernel)",
   "language": "python",
   "name": "python3"
  },
  "language_info": {
   "codemirror_mode": {
    "name": "ipython",
    "version": 3
   },
   "file_extension": ".py",
   "mimetype": "text/x-python",
   "name": "python",
   "nbconvert_exporter": "python",
   "pygments_lexer": "ipython3",
   "version": "3.12.3"
  }
 },
 "nbformat": 4,
 "nbformat_minor": 5
}
