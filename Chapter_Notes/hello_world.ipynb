{
 "cells": [
  {
   "cell_type": "code",
   "execution_count": 2,
   "id": "2a79f191-12f1-417c-b847-386818fe7e06",
   "metadata": {
    "collapsed": true,
    "jupyter": {
     "outputs_hidden": true
    }
   },
   "outputs": [
    {
     "name": "stdout",
     "output_type": "stream",
     "text": [
      "Channels:\n",
      " - defaults\n",
      "Platform: linux-64\n",
      "Collecting package metadata (repodata.json): done\n",
      "Solving environment: done\n",
      "\n",
      "## Package Plan ##\n",
      "\n",
      "  environment location: /opt/conda\n",
      "\n",
      "  added / updated specs:\n",
      "    - numpy\n",
      "    - pandas\n",
      "\n",
      "\n",
      "The following packages will be downloaded:\n",
      "\n",
      "    package                    |            build\n",
      "    ---------------------------|-----------------\n",
      "    bottleneck-1.3.7           |  py312ha883a20_0         140 KB\n",
      "    mkl-service-2.4.0          |  py312h5eee18b_1          66 KB\n",
      "    mkl_fft-1.3.8              |  py312h5eee18b_0         204 KB\n",
      "    mkl_random-1.2.4           |  py312hdb19cb5_0         284 KB\n",
      "    numexpr-2.8.7              |  py312hf827012_0         149 KB\n",
      "    numpy-1.26.4               |  py312hc5e2394_0          11 KB\n",
      "    numpy-base-1.26.4          |  py312h0da6c21_0         7.7 MB\n",
      "    pandas-2.2.2               |  py312h526ad5a_0        15.4 MB\n",
      "    ------------------------------------------------------------\n",
      "                                           Total:        23.9 MB\n",
      "\n",
      "The following NEW packages will be INSTALLED:\n",
      "\n",
      "  blas               pkgs/main/linux-64::blas-1.0-mkl \n",
      "  bottleneck         pkgs/main/linux-64::bottleneck-1.3.7-py312ha883a20_0 \n",
      "  intel-openmp       pkgs/main/linux-64::intel-openmp-2023.1.0-hdb19cb5_46306 \n",
      "  mkl                pkgs/main/linux-64::mkl-2023.1.0-h213fc3f_46344 \n",
      "  mkl-service        pkgs/main/linux-64::mkl-service-2.4.0-py312h5eee18b_1 \n",
      "  mkl_fft            pkgs/main/linux-64::mkl_fft-1.3.8-py312h5eee18b_0 \n",
      "  mkl_random         pkgs/main/linux-64::mkl_random-1.2.4-py312hdb19cb5_0 \n",
      "  numexpr            pkgs/main/linux-64::numexpr-2.8.7-py312hf827012_0 \n",
      "  numpy              pkgs/main/linux-64::numpy-1.26.4-py312hc5e2394_0 \n",
      "  numpy-base         pkgs/main/linux-64::numpy-base-1.26.4-py312h0da6c21_0 \n",
      "  pandas             pkgs/main/linux-64::pandas-2.2.2-py312h526ad5a_0 \n",
      "  python-tzdata      pkgs/main/noarch::python-tzdata-2023.3-pyhd3eb1b0_0 \n",
      "  tbb                pkgs/main/linux-64::tbb-2021.8.0-hdb19cb5_0 \n",
      "\n",
      "\n",
      "\n",
      "Downloading and Extracting Packages:\n",
      "pandas-2.2.2         | 15.4 MB   |                                       |   0% \n",
      "numpy-base-1.26.4    | 7.7 MB    |                                       |   0% \u001b[A\n",
      "\n",
      "mkl_random-1.2.4     | 284 KB    |                                       |   0% \u001b[A\u001b[A\n",
      "\n",
      "\n",
      "mkl_fft-1.3.8        | 204 KB    |                                       |   0% \u001b[A\u001b[A\u001b[A\n",
      "\n",
      "\n",
      "\n",
      "numexpr-2.8.7        | 149 KB    |                                       |   0% \u001b[A\u001b[A\u001b[A\u001b[A\n",
      "\n",
      "\n",
      "\n",
      "\n",
      "bottleneck-1.3.7     | 140 KB    |                                       |   0% \u001b[A\u001b[A\u001b[A\u001b[A\u001b[A\n",
      "\n",
      "\n",
      "\n",
      "\n",
      "\n",
      "mkl-service-2.4.0    | 66 KB     |                                       |   0% \u001b[A\u001b[A\u001b[A\u001b[A\u001b[A\u001b[A\n",
      "\n",
      "\n",
      "\n",
      "\n",
      "\n",
      "\n",
      "numpy-1.26.4         | 11 KB     |                                       |   0% \u001b[A\u001b[A\u001b[A\u001b[A\u001b[A\u001b[A\u001b[A\n",
      "\n",
      "pandas-2.2.2         | 15.4 MB   |                                       |   0% \u001b[A\u001b[A\n",
      "\n",
      "\n",
      "\n",
      "\n",
      "bottleneck-1.3.7     | 140 KB    | ####2                                 |  11% \u001b[A\u001b[A\u001b[A\u001b[A\u001b[A\n",
      "\n",
      "\n",
      "mkl_fft-1.3.8        | 204 KB    | ##8                                   |   8% \u001b[A\u001b[A\u001b[A\n",
      "numpy-base-1.26.4    | 7.7 MB    |                                       |   0% \u001b[A\n",
      "\n",
      "mkl_random-1.2.4     | 284 KB    | ##################################### | 100% \u001b[A\u001b[A\n",
      "\n",
      "\n",
      "\n",
      "\n",
      "\n",
      "mkl-service-2.4.0    | 66 KB     | ########9                             |  24% \u001b[A\u001b[A\u001b[A\u001b[A\u001b[A\u001b[A\n",
      "\n",
      "\n",
      "\n",
      "numexpr-2.8.7        | 149 KB    | ###9                                  |  11% \u001b[A\u001b[A\u001b[A\u001b[A\n",
      "\n",
      "\n",
      "\n",
      "\n",
      "\n",
      "\n",
      "pandas-2.2.2         | 15.4 MB   | #######6                              |  21% \u001b[A\u001b[A\u001b[A\u001b[A\u001b[A\u001b[A\u001b[A\n",
      "numpy-base-1.26.4    | 7.7 MB    | ################3                     |  44% \u001b[A\n",
      "\n",
      "\n",
      "mkl_fft-1.3.8        | 204 KB    | ##################################### | 100% \u001b[A\u001b[A\u001b[A\n",
      "\n",
      "\n",
      "mkl_fft-1.3.8        | 204 KB    | ##################################### | 100% \u001b[A\u001b[A\u001b[A\n",
      "\n",
      "\n",
      "\n",
      "\n",
      "\n",
      "mkl-service-2.4.0    | 66 KB     | ##################################### | 100% \u001b[A\u001b[A\u001b[A\u001b[A\u001b[A\u001b[A\n",
      "\n",
      "\n",
      "\n",
      "\n",
      "bottleneck-1.3.7     | 140 KB    | ##################################### | 100% \u001b[A\u001b[A\u001b[A\u001b[A\u001b[A\n",
      "\n",
      "\n",
      "\n",
      "\n",
      "bottleneck-1.3.7     | 140 KB    | ##################################### | 100% \u001b[A\u001b[A\u001b[A\u001b[A\u001b[A\n",
      "\n",
      "\n",
      "\n",
      "\n",
      "\n",
      "\n",
      "pandas-2.2.2         | 15.4 MB   | ###############1                      |  41% \u001b[A\u001b[A\u001b[A\u001b[A\u001b[A\u001b[A\u001b[A\n",
      "\n",
      "\n",
      "\n",
      "numexpr-2.8.7        | 149 KB    | ##################################### | 100% \u001b[A\u001b[A\u001b[A\u001b[A\n",
      "\n",
      "\n",
      "\n",
      "pandas-2.2.2         | 15.4 MB   | ################################7     |  88% \u001b[A\u001b[A\u001b[A\u001b[A\n",
      "numpy-base-1.26.4    | 7.7 MB    | ##################################### | 100% \u001b[A\n",
      "                                                                                \u001b[A\n",
      "                                                                                \u001b[A\n",
      "\n",
      "                                                                                \u001b[A\u001b[A\n",
      "\n",
      "\n",
      "                                                                                \u001b[A\u001b[A\u001b[A\n",
      "\n",
      "\n",
      "\n",
      "                                                                                \u001b[A\u001b[A\u001b[A\u001b[A\n",
      "\n",
      "\n",
      "\n",
      "\n",
      "                                                                                \u001b[A\u001b[A\u001b[A\u001b[A\u001b[A\n",
      "\n",
      "\n",
      "\n",
      "\n",
      "\n",
      "                                                                                \u001b[A\u001b[A\u001b[A\u001b[A\u001b[A\u001b[A\n",
      "\n",
      "\n",
      "\n",
      "\n",
      "\n",
      "\n",
      "                                                                                \u001b[A\u001b[A\u001b[A\u001b[A\u001b[A\u001b[A\u001b[A\n",
      "Preparing transaction: done\n",
      "Verifying transaction: done\n",
      "Executing transaction: done\n",
      "\n",
      "Note: you may need to restart the kernel to use updated packages.\n"
     ]
    }
   ],
   "source": [
    "conda install numpy pandas"
   ]
  },
  {
   "cell_type": "code",
   "execution_count": 1,
   "id": "083937e0-00ec-4f28-b4f0-df1054585dd1",
   "metadata": {},
   "outputs": [
    {
     "name": "stdout",
     "output_type": "stream",
     "text": [
      "Hello, world\n"
     ]
    }
   ],
   "source": [
    "print(\"Hello, world\")"
   ]
  },
  {
   "cell_type": "code",
   "execution_count": 1,
   "id": "df2a484f-68e7-4620-9b25-6eb1c559503d",
   "metadata": {},
   "outputs": [],
   "source": [
    "def func_with_keywords(abra=1, abbra=2, abbbra=3):\n",
    "    return abra, abbra, abbbra"
   ]
  },
  {
   "cell_type": "code",
   "execution_count": 2,
   "id": "465186bd-1697-4181-ac2e-d8d4599faa08",
   "metadata": {},
   "outputs": [
    {
     "data": {
      "text/plain": [
       "(1, 2, 4)"
      ]
     },
     "execution_count": 2,
     "metadata": {},
     "output_type": "execute_result"
    }
   ],
   "source": [
    "func_with_keywords(abbbra=4)"
   ]
  },
  {
   "cell_type": "code",
   "execution_count": null,
   "id": "2e428c36-6157-462f-8161-4ce46a732bbc",
   "metadata": {},
   "outputs": [],
   "source": [
    "def add_numbers(a, b):\n",
    "    \"\"\"\n",
    "    Add two numbers together \n",
    "\n",
    "    Returns\n",
    "    ------\n",
    "    the_sum:type of arguments\n",
    "    \"\"\"\n",
    "    return a + b"
   ]
  },
  {
   "cell_type": "code",
   "execution_count": 6,
   "id": "09648c78-b8ef-4033-a39b-4a3f4b20ec66",
   "metadata": {},
   "outputs": [
    {
     "data": {
      "text/plain": [
       "\u001b[0;31mSignature:\u001b[0m \u001b[0madd_numbers\u001b[0m\u001b[0;34m(\u001b[0m\u001b[0ma\u001b[0m\u001b[0;34m,\u001b[0m \u001b[0mb\u001b[0m\u001b[0;34m)\u001b[0m\u001b[0;34m\u001b[0m\u001b[0;34m\u001b[0m\u001b[0m\n",
       "\u001b[0;31mDocstring:\u001b[0m\n",
       "Add two numbers together \n",
       "\n",
       "Returns\n",
       "------\n",
       "the_sum:type of arguments\n",
       "\u001b[0;31mFile:\u001b[0m      /tmp/ipykernel_36453/33850979.py\n",
       "\u001b[0;31mType:\u001b[0m      function"
      ]
     },
     "metadata": {},
     "output_type": "display_data"
    }
   ],
   "source": [
    "add_numbers?"
   ]
  },
  {
   "cell_type": "code",
   "execution_count": 1,
   "id": "612e5ef6-c467-442c-b314-62724753d753",
   "metadata": {},
   "outputs": [],
   "source": [
    "import numpy as np"
   ]
  },
  {
   "cell_type": "code",
   "execution_count": 2,
   "id": "60702825-bedf-4725-b4e9-48274471382b",
   "metadata": {},
   "outputs": [
    {
     "data": {
      "text/plain": [
       "np.__loader__\n",
       "np.load\n",
       "np.loadtxt"
      ]
     },
     "metadata": {},
     "output_type": "display_data"
    }
   ],
   "source": [
    "np.*load*?"
   ]
  },
  {
   "cell_type": "code",
   "execution_count": 6,
   "id": "8f7e1a3f-e473-42c7-9668-757c3b20cab3",
   "metadata": {},
   "outputs": [
    {
     "name": "stdout",
     "output_type": "stream",
     "text": [
      "Reached this line.\n"
     ]
    }
   ],
   "source": [
    "print('Reached this line.') # Simple status report"
   ]
  },
  {
   "cell_type": "code",
   "execution_count": 27,
   "id": "ae076e11-04d5-4e05-874d-631ce30b0516",
   "metadata": {},
   "outputs": [],
   "source": [
    "def append_element(some_list, element):\n",
    "    some_list.append(element)\n",
    "    "
   ]
  },
  {
   "cell_type": "code",
   "execution_count": 28,
   "id": "399b3b42-fc97-4399-8db9-9b5c144516b5",
   "metadata": {},
   "outputs": [],
   "source": [
    "data = [1, 2, 3]"
   ]
  },
  {
   "cell_type": "code",
   "execution_count": 29,
   "id": "ee9cc83e-9bb0-4865-9ba3-4bd041f0b18c",
   "metadata": {},
   "outputs": [],
   "source": [
    "append_element(data, 4)"
   ]
  },
  {
   "cell_type": "code",
   "execution_count": 30,
   "id": "d7dd9a94-e1b0-4ae7-89ad-80151848a285",
   "metadata": {},
   "outputs": [
    {
     "data": {
      "text/plain": [
       "[1, 2, 3, 4]"
      ]
     },
     "execution_count": 30,
     "metadata": {},
     "output_type": "execute_result"
    }
   ],
   "source": [
    "data"
   ]
  },
  {
   "cell_type": "code",
   "execution_count": 31,
   "id": "6a2ea45b-6a28-486c-b3ed-80a741f538f9",
   "metadata": {},
   "outputs": [],
   "source": [
    "import some_module"
   ]
  },
  {
   "cell_type": "code",
   "execution_count": 32,
   "id": "d461f378-340b-4f51-a174-e23204a60f57",
   "metadata": {},
   "outputs": [],
   "source": [
    "result = some_module.f(5)\n",
    "pi = some_module.PI"
   ]
  },
  {
   "cell_type": "code",
   "execution_count": 33,
   "id": "918ba7b2-bed1-4262-9ab3-cb042c58adfe",
   "metadata": {},
   "outputs": [
    {
     "data": {
      "text/plain": [
       "3.14159"
      ]
     },
     "execution_count": 33,
     "metadata": {},
     "output_type": "execute_result"
    }
   ],
   "source": [
    "result\n",
    "pi"
   ]
  },
  {
   "cell_type": "code",
   "execution_count": 34,
   "id": "49788532-d5bd-4970-be68-6e5dae8cc55b",
   "metadata": {},
   "outputs": [
    {
     "data": {
      "text/plain": [
       "7"
      ]
     },
     "execution_count": 34,
     "metadata": {},
     "output_type": "execute_result"
    }
   ],
   "source": [
    "result"
   ]
  },
  {
   "cell_type": "code",
   "execution_count": 36,
   "id": "4208c45d-2f6b-4580-acd6-b8ea70edb80d",
   "metadata": {},
   "outputs": [],
   "source": [
    "from some_module import g as gf, PI as pi "
   ]
  },
  {
   "cell_type": "code",
   "execution_count": 37,
   "id": "f22701d8-bae0-4688-ba02-3201746eb32e",
   "metadata": {},
   "outputs": [],
   "source": [
    "result = gf(5, pi)"
   ]
  },
  {
   "cell_type": "code",
   "execution_count": 38,
   "id": "b77aa64f-0d0c-482b-849b-d5b36dd3a982",
   "metadata": {},
   "outputs": [
    {
     "data": {
      "text/plain": [
       "8.14159"
      ]
     },
     "execution_count": 38,
     "metadata": {},
     "output_type": "execute_result"
    }
   ],
   "source": [
    "result"
   ]
  }
 ],
 "metadata": {
  "kernelspec": {
   "display_name": "Python 3 (ipykernel)",
   "language": "python",
   "name": "python3"
  },
  "language_info": {
   "codemirror_mode": {
    "name": "ipython",
    "version": 3
   },
   "file_extension": ".py",
   "mimetype": "text/x-python",
   "name": "python",
   "nbconvert_exporter": "python",
   "pygments_lexer": "ipython3",
   "version": "3.12.3"
  }
 },
 "nbformat": 4,
 "nbformat_minor": 5
}
