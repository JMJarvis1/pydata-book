{
 "cells": [
  {
   "cell_type": "code",
   "execution_count": 14,
   "id": "7e724452-993e-47e3-ab45-f0257f4395bf",
   "metadata": {},
   "outputs": [],
   "source": [
    "\n",
    "# Begin string cleaning examples\n"
   ]
  },
  {
   "cell_type": "code",
   "execution_count": 15,
   "id": "a5f71bd7-45d8-405c-a592-4eb8b77a2f3b",
   "metadata": {},
   "outputs": [],
   "source": [
    "import re"
   ]
  },
  {
   "cell_type": "code",
   "execution_count": 16,
   "id": "0902f42f-a46c-4bc3-b505-ffc023e2e801",
   "metadata": {},
   "outputs": [],
   "source": [
    "def remove_punctuation(value):\n",
    "    return re.sub(\"[!#?]\", \"\", value)"
   ]
  },
  {
   "cell_type": "code",
   "execution_count": 17,
   "id": "1f9b0fcf-faff-4e27-ba15-247297ee82a7",
   "metadata": {},
   "outputs": [],
   "source": [
    "clean_ops = [str.strip, remove_punctuation, str.title]"
   ]
  },
  {
   "cell_type": "code",
   "execution_count": 18,
   "id": "d8ac2b65-7ca2-4af0-9b46-f210056d88f0",
   "metadata": {},
   "outputs": [],
   "source": [
    "def clean_strings(strings, ops):\n",
    "    result =[]\n",
    "    for value in strings:\n",
    "        for func in ops:\n",
    "            value = func(value)\n",
    "        result.append(value)\n",
    "    return result"
   ]
  },
  {
   "cell_type": "code",
   "execution_count": 19,
   "id": "7f3fe593-8cad-4d40-b829-865f2836fe68",
   "metadata": {},
   "outputs": [],
   "source": [
    "states = [\"Alabama\", \"Georgia!\", \"Georgia\", \"georgia\", \"FlOrIda\", \"south carolina##\", \"West virginia?\"]"
   ]
  },
  {
   "cell_type": "code",
   "execution_count": 20,
   "id": "fd7c89ff-f065-4bb0-9734-4fb4204a5446",
   "metadata": {},
   "outputs": [
    {
     "data": {
      "text/plain": [
       "['Alabama',\n",
       " 'Georgia',\n",
       " 'Georgia',\n",
       " 'Georgia',\n",
       " 'Florida',\n",
       " 'South Carolina',\n",
       " 'West Virginia']"
      ]
     },
     "execution_count": 20,
     "metadata": {},
     "output_type": "execute_result"
    }
   ],
   "source": [
    "clean_strings(states, clean_ops)"
   ]
  },
  {
   "cell_type": "code",
   "execution_count": 21,
   "id": "ca6acf16-7128-478e-99ee-998a13fcb866",
   "metadata": {},
   "outputs": [
    {
     "name": "stdout",
     "output_type": "stream",
     "text": [
      "Alabama\n",
      "Georgia\n",
      "Georgia\n",
      "georgia\n",
      "FlOrIda\n",
      "south carolina\n",
      "West virginia\n"
     ]
    }
   ],
   "source": [
    "for x in map(remove_punctuation, states):\n",
    "    print(x)"
   ]
  },
  {
   "cell_type": "code",
   "execution_count": 22,
   "id": "5c6c5bee-df1c-4a27-a830-1e6bd7e21f5a",
   "metadata": {},
   "outputs": [],
   "source": [
    "\n",
    "# Begin lamda (anon) function examples\n"
   ]
  },
  {
   "cell_type": "code",
   "execution_count": 23,
   "id": "d518ac93-d7e9-4291-abb3-218ea67121a3",
   "metadata": {},
   "outputs": [],
   "source": [
    "def short_function(x):\n",
    "    return x * 2"
   ]
  },
  {
   "cell_type": "code",
   "execution_count": 24,
   "id": "bc7757d0-6e96-4a19-a396-e26f5ae55ecb",
   "metadata": {},
   "outputs": [],
   "source": [
    "equiv_anon = lambda x: x * 2"
   ]
  },
  {
   "cell_type": "code",
   "execution_count": 25,
   "id": "783b559f-7cef-4480-8e3a-36a7ec7ed433",
   "metadata": {},
   "outputs": [],
   "source": [
    "x = 3"
   ]
  },
  {
   "cell_type": "code",
   "execution_count": 26,
   "id": "26df1b85-118f-4e7d-8538-b4460e744312",
   "metadata": {},
   "outputs": [
    {
     "name": "stdout",
     "output_type": "stream",
     "text": [
      "6\n",
      "6\n"
     ]
    }
   ],
   "source": [
    "print(short_function(x))\n",
    "print(equiv_anon(x))"
   ]
  },
  {
   "cell_type": "code",
   "execution_count": 27,
   "id": "bff56d2a-fcff-431e-8cd9-5f2009615c9a",
   "metadata": {},
   "outputs": [],
   "source": [
    "def apply_to_list(some_list, f):\n",
    "    return [f(x) for x in some_list]"
   ]
  },
  {
   "cell_type": "code",
   "execution_count": 28,
   "id": "97ce4125-4f68-4d2a-b8d8-e7acd5e57875",
   "metadata": {},
   "outputs": [],
   "source": [
    "ints = [4, 0, 1, 5, 6]"
   ]
  },
  {
   "cell_type": "code",
   "execution_count": 29,
   "id": "31fb22dc-0de5-4349-903c-4b92e4685f59",
   "metadata": {},
   "outputs": [
    {
     "data": {
      "text/plain": [
       "[8, 0, 2, 10, 12]"
      ]
     },
     "execution_count": 29,
     "metadata": {},
     "output_type": "execute_result"
    }
   ],
   "source": [
    "apply_to_list(ints, lambda x: x * 2)"
   ]
  },
  {
   "cell_type": "code",
   "execution_count": 30,
   "id": "3d04443b-239c-4aa0-a54b-2c0cf8b2b5c0",
   "metadata": {},
   "outputs": [],
   "source": [
    "strings = [\"foo\", \"card\", \"bar\", \"aaaa\", \"abab\"]"
   ]
  },
  {
   "cell_type": "code",
   "execution_count": 31,
   "id": "fecaa411-5776-41fe-a922-f507f83db564",
   "metadata": {},
   "outputs": [],
   "source": [
    "strings.sort(key=lambda x: len(set(x)))"
   ]
  },
  {
   "cell_type": "code",
   "execution_count": 32,
   "id": "d9b5bb78-1e98-42b9-b336-ed02c64e71f9",
   "metadata": {},
   "outputs": [
    {
     "data": {
      "text/plain": [
       "['aaaa', 'foo', 'abab', 'bar', 'card']"
      ]
     },
     "execution_count": 32,
     "metadata": {},
     "output_type": "execute_result"
    }
   ],
   "source": [
    "strings"
   ]
  },
  {
   "cell_type": "code",
   "execution_count": 33,
   "id": "8cb29c36-7ad0-4ef1-9f53-d0926bd8d20a",
   "metadata": {},
   "outputs": [],
   "source": [
    "\n",
    "# Begin generator function examples\n"
   ]
  },
  {
   "cell_type": "code",
   "execution_count": 34,
   "id": "3940007f-3587-40f5-8a96-6981b88e547b",
   "metadata": {},
   "outputs": [
    {
     "name": "stdout",
     "output_type": "stream",
     "text": [
      "Alabama\n",
      "Georgia\n",
      "Georgia\n",
      "georgia\n",
      "FlOrIda\n",
      "south carolina\n",
      "West virginia\n"
     ]
    }
   ],
   "source": [
    "for x in map(remove_punctuation, states):\n",
    "    print(x)"
   ]
  },
  {
   "cell_type": "code",
   "execution_count": 35,
   "id": "c7a24f3e-13ae-4ce9-9ae1-af2a3bdb7cc6",
   "metadata": {},
   "outputs": [],
   "source": [
    "some_dict = {\"a\": 1, \"b\": 2, \"c\": 3}"
   ]
  },
  {
   "cell_type": "code",
   "execution_count": 36,
   "id": "7a9946df-2997-4f1e-949d-391a96b30f42",
   "metadata": {},
   "outputs": [
    {
     "name": "stdout",
     "output_type": "stream",
     "text": [
      "a\n",
      "b\n",
      "c\n"
     ]
    }
   ],
   "source": [
    "for key in some_dict:\n",
    "    print(key)"
   ]
  },
  {
   "cell_type": "code",
   "execution_count": 37,
   "id": "b3f2401a-14eb-465a-bcec-a2c45d608b26",
   "metadata": {},
   "outputs": [],
   "source": [
    "dict_iterator = iter(some_dict)"
   ]
  },
  {
   "cell_type": "code",
   "execution_count": 38,
   "id": "0ce59b29-efb8-4560-a742-a86943961fc9",
   "metadata": {},
   "outputs": [
    {
     "data": {
      "text/plain": [
       "<dict_keyiterator at 0x7065c59e2570>"
      ]
     },
     "execution_count": 38,
     "metadata": {},
     "output_type": "execute_result"
    }
   ],
   "source": [
    "dict_iterator"
   ]
  },
  {
   "cell_type": "code",
   "execution_count": 39,
   "id": "9d1b3c4c-384d-4cce-9aff-945d4e09558a",
   "metadata": {},
   "outputs": [
    {
     "data": {
      "text/plain": [
       "['a', 'b', 'c']"
      ]
     },
     "execution_count": 39,
     "metadata": {},
     "output_type": "execute_result"
    }
   ],
   "source": [
    "list(dict_iterator)"
   ]
  },
  {
   "cell_type": "code",
   "execution_count": 40,
   "id": "0e5ad8ee-9ba8-4c18-9eb2-0661102751d9",
   "metadata": {},
   "outputs": [],
   "source": [
    "def squares(n=10):\n",
    "    print(f\"Generating squares from 1 to {n ** 2}\")\n",
    "    for i in range(1, n+1):\n",
    "        yield i ** 2"
   ]
  },
  {
   "cell_type": "code",
   "execution_count": 41,
   "id": "47fa0277-d7f0-4f45-a221-7d14beac888c",
   "metadata": {},
   "outputs": [],
   "source": [
    "gen = squares()"
   ]
  },
  {
   "cell_type": "code",
   "execution_count": 42,
   "id": "8853bc35-7a9f-4874-8359-1e1b0a596b7d",
   "metadata": {},
   "outputs": [
    {
     "data": {
      "text/plain": [
       "<generator object squares at 0x7065c59804a0>"
      ]
     },
     "execution_count": 42,
     "metadata": {},
     "output_type": "execute_result"
    }
   ],
   "source": [
    "gen"
   ]
  },
  {
   "cell_type": "code",
   "execution_count": 43,
   "id": "3754434b-f3ed-4c4c-9854-13746aca98d6",
   "metadata": {},
   "outputs": [
    {
     "name": "stdout",
     "output_type": "stream",
     "text": [
      "Generating squares from 1 to 100\n",
      "1 4 9 16 25 36 49 64 81 100 "
     ]
    }
   ],
   "source": [
    "for x in gen:\n",
    "    print(x, end=\" \")\n",
    "    "
   ]
  },
  {
   "cell_type": "code",
   "execution_count": 44,
   "id": "6e5cfd84-9fbd-4bfc-8ec4-4d5ac73477e5",
   "metadata": {},
   "outputs": [],
   "source": [
    "gen = (x**2 for x in range(100))"
   ]
  },
  {
   "cell_type": "code",
   "execution_count": 45,
   "id": "0197a8f1-5be7-4e4d-a7fc-ee11f533df94",
   "metadata": {},
   "outputs": [
    {
     "data": {
      "text/plain": [
       "<generator object <genexpr> at 0x7065c6450e10>"
      ]
     },
     "execution_count": 45,
     "metadata": {},
     "output_type": "execute_result"
    }
   ],
   "source": [
    "gen"
   ]
  },
  {
   "cell_type": "code",
   "execution_count": 46,
   "id": "bd7f4dca-2bbc-4df7-903b-9bbf8bc8100a",
   "metadata": {},
   "outputs": [
    {
     "data": {
      "text/plain": [
       "328350"
      ]
     },
     "execution_count": 46,
     "metadata": {},
     "output_type": "execute_result"
    }
   ],
   "source": [
    "sum(x**2 for x in range(100))"
   ]
  },
  {
   "cell_type": "code",
   "execution_count": 47,
   "id": "fb9d9c7a-0d85-4142-ab94-4012a2af054b",
   "metadata": {},
   "outputs": [
    {
     "data": {
      "text/plain": [
       "{0: 0, 1: 1, 2: 4, 3: 9, 4: 16}"
      ]
     },
     "execution_count": 47,
     "metadata": {},
     "output_type": "execute_result"
    }
   ],
   "source": [
    "dict((i, i**2) for i in range(5))"
   ]
  },
  {
   "cell_type": "code",
   "execution_count": 48,
   "id": "086e5890-24ff-41cd-8c51-bfe4f463b391",
   "metadata": {},
   "outputs": [],
   "source": [
    "\n",
    "# Begin itertools overview\n"
   ]
  },
  {
   "cell_type": "code",
   "execution_count": 49,
   "id": "b74903d5-4cc8-47d5-9afe-cd684e38b67b",
   "metadata": {},
   "outputs": [],
   "source": [
    "import itertools"
   ]
  },
  {
   "cell_type": "code",
   "execution_count": 50,
   "id": "16dc2430-52b6-4bc9-9299-bccb513a9113",
   "metadata": {},
   "outputs": [],
   "source": [
    "def first_letter(x):\n",
    "    return x[0]"
   ]
  },
  {
   "cell_type": "code",
   "execution_count": 51,
   "id": "37f5cdcd-9c80-40c9-a93d-cc3031cde8dc",
   "metadata": {},
   "outputs": [],
   "source": [
    "names = [\"Alan\", \"Adam\", \"Wes\", \"Will\", \"Albert\", \"Steven\"]"
   ]
  },
  {
   "cell_type": "code",
   "execution_count": 52,
   "id": "491602cf-d952-4c7c-9d7f-b264a5f38526",
   "metadata": {},
   "outputs": [
    {
     "name": "stdout",
     "output_type": "stream",
     "text": [
      "A ['Alan', 'Adam']\n",
      "W ['Wes', 'Will']\n",
      "A ['Albert']\n",
      "S ['Steven']\n"
     ]
    }
   ],
   "source": [
    "for letter, names in itertools.groupby(names, first_letter):\n",
    "    print(letter, list(names)) # names is a generator)"
   ]
  },
  {
   "cell_type": "code",
   "execution_count": 121,
   "id": "54c1e9b1-3383-4351-8bdc-7600006afba1",
   "metadata": {},
   "outputs": [],
   "source": [
    "\n",
    "\n",
    "\n",
    "# Begin: Section 3.3 \n",
    "    # errors and exception handling overview\n",
    "\n",
    "\n"
   ]
  },
  {
   "cell_type": "code",
   "execution_count": 54,
   "id": "67763702-b9d8-498c-b0c9-0d73afb13f5d",
   "metadata": {},
   "outputs": [
    {
     "data": {
      "text/plain": [
       "1.2345"
      ]
     },
     "execution_count": 54,
     "metadata": {},
     "output_type": "execute_result"
    }
   ],
   "source": [
    "float(\"1.2345\")"
   ]
  },
  {
   "cell_type": "code",
   "execution_count": 55,
   "id": "1ea35e13-4629-4b09-b3f2-2b257b7254cd",
   "metadata": {},
   "outputs": [],
   "source": [
    "# float(\"something\") <<<< Results in ValueError >>>> "
   ]
  },
  {
   "cell_type": "code",
   "execution_count": 56,
   "id": "7d4efaa3-ff80-41ff-913c-dd7396a96abc",
   "metadata": {},
   "outputs": [],
   "source": [
    "def attempt_float(x):\n",
    "    try:\n",
    "        return float(x)\n",
    "    except ValueError:\n",
    "        return x"
   ]
  },
  {
   "cell_type": "code",
   "execution_count": 57,
   "id": "ec2f7aea-f244-4dd1-81be-61c25febbed3",
   "metadata": {},
   "outputs": [
    {
     "data": {
      "text/plain": [
       "'something'"
      ]
     },
     "execution_count": 57,
     "metadata": {},
     "output_type": "execute_result"
    }
   ],
   "source": [
    "attempt_float(\"something\") # Fails gracefully"
   ]
  },
  {
   "cell_type": "code",
   "execution_count": 58,
   "id": "3d41a5e6-421e-41f3-a6ba-317643f60afa",
   "metadata": {},
   "outputs": [
    {
     "data": {
      "text/plain": [
       "1.2345"
      ]
     },
     "execution_count": 58,
     "metadata": {},
     "output_type": "execute_result"
    }
   ],
   "source": [
    "attempt_float(\"1.2345\")  # String successfully returns as float"
   ]
  },
  {
   "cell_type": "code",
   "execution_count": 59,
   "id": "36d0f46d-d5bc-4ec4-8f68-d15d2bd6ad6c",
   "metadata": {},
   "outputs": [],
   "source": [
    "# attempt_float((1,2)) <<<< Ungraceful fail for non-ValueError errors >>>>"
   ]
  },
  {
   "cell_type": "code",
   "execution_count": 60,
   "id": "3e718506-e70c-43fe-b0fc-a53dccda5b8a",
   "metadata": {},
   "outputs": [],
   "source": [
    "def attempt_float(x):\n",
    "    try:\n",
    "        return float(x)\n",
    "    except (TypeError, ValueError): # ALlow for multiple exception types\n",
    "        return x"
   ]
  },
  {
   "cell_type": "code",
   "execution_count": 61,
   "id": "3f748be9-809d-4953-b799-cef9c0b43fad",
   "metadata": {},
   "outputs": [
    {
     "data": {
      "text/plain": [
       "(1, 2)"
      ]
     },
     "execution_count": 61,
     "metadata": {},
     "output_type": "execute_result"
    }
   ],
   "source": [
    "attempt_float((1, 2))"
   ]
  },
  {
   "cell_type": "code",
   "execution_count": 62,
   "id": "7f28a66d-e18a-450f-b650-ae3ce905f9e6",
   "metadata": {},
   "outputs": [
    {
     "name": "stdout",
     "output_type": "stream",
     "text": [
      "Failed\n"
     ]
    }
   ],
   "source": [
    "\n",
    "f = open(\"./test.txt\", mode=\"w\")\n",
    "try:\n",
    "    write_to_file(f, \"Hello, world!\")\n",
    "except:\n",
    "    print(\"Failed\")\n",
    "else:\n",
    "    print(\"Succeeded\")\n",
    "finally:\n",
    "    f.close()"
   ]
  },
  {
   "cell_type": "code",
   "execution_count": 63,
   "id": "fae2ccc0-c2d8-4e1c-8eb7-6c3a415d094f",
   "metadata": {},
   "outputs": [],
   "source": [
    "# %run ../examples/ipython_bug.py <<< Throws assertion error >>>"
   ]
  },
  {
   "cell_type": "code",
   "execution_count": 64,
   "id": "bc2d60bb-86f9-4261-8d48-436397abe61e",
   "metadata": {},
   "outputs": [],
   "source": [
    "# Begin files and operating system overview"
   ]
  },
  {
   "cell_type": "code",
   "execution_count": 65,
   "id": "2bcb5f81-78e6-42b6-95ba-9576bfa72de6",
   "metadata": {},
   "outputs": [
    {
     "name": "stdout",
     "output_type": "stream",
     "text": [
      "Sueña el rico en su riqueza,\n",
      "\n",
      "que más cuidados le ofrece;\n",
      "\n",
      "\n",
      "\n",
      "sueña el pobre que padece\n",
      "\n",
      "su miseria y su pobreza;\n",
      "\n",
      "\n",
      "\n",
      "sueña el que a medrar empieza,\n",
      "\n",
      "sueña el que afana y pretende,\n",
      "\n",
      "sueña el que agravia y ofende,\n",
      "\n",
      "\n",
      "\n",
      "y en el mundo, en conclusión,\n",
      "\n",
      "todos sueñan lo que son,\n",
      "\n",
      "aunque ninguno lo entiende.\n",
      "\n",
      "\n",
      "\n"
     ]
    }
   ],
   "source": [
    "path = \"../examples/segismundo.txt\"\n",
    "f = open(path, encoding=\"utf-8\")\n",
    "\n",
    "for line in f:\n",
    "    print(line)\n",
    "f.close()"
   ]
  },
  {
   "cell_type": "code",
   "execution_count": 66,
   "id": "745d842a-6b31-48e0-a18e-d82a2dbafdbb",
   "metadata": {},
   "outputs": [],
   "source": [
    "lines = [x.rstrip() for x in open(path, encoding=\"utf-8\")]"
   ]
  },
  {
   "cell_type": "code",
   "execution_count": 67,
   "id": "51bad077-d898-4f61-80aa-cd4c52f4efee",
   "metadata": {},
   "outputs": [
    {
     "data": {
      "text/plain": [
       "['Sueña el rico en su riqueza,',\n",
       " 'que más cuidados le ofrece;',\n",
       " '',\n",
       " 'sueña el pobre que padece',\n",
       " 'su miseria y su pobreza;',\n",
       " '',\n",
       " 'sueña el que a medrar empieza,',\n",
       " 'sueña el que afana y pretende,',\n",
       " 'sueña el que agravia y ofende,',\n",
       " '',\n",
       " 'y en el mundo, en conclusión,',\n",
       " 'todos sueñan lo que son,',\n",
       " 'aunque ninguno lo entiende.',\n",
       " '']"
      ]
     },
     "execution_count": 67,
     "metadata": {},
     "output_type": "execute_result"
    }
   ],
   "source": [
    "lines"
   ]
  },
  {
   "cell_type": "code",
   "execution_count": 68,
   "id": "9d6fde00-614b-445e-84a7-0fd44f1a3316",
   "metadata": {},
   "outputs": [],
   "source": [
    "f.close() # Close file to release resources used by file."
   ]
  },
  {
   "cell_type": "code",
   "execution_count": 69,
   "id": "6bf79f5c-5dd7-4e31-bd2f-b18bbbdc003e",
   "metadata": {},
   "outputs": [],
   "source": [
    "with open(path, encoding=\"utf-8\") as f: # with open()...automatically closes file\n",
    "    lines = [x.strip() for x in f]"
   ]
  },
  {
   "cell_type": "code",
   "execution_count": 70,
   "id": "5dc0ca5f-f60a-411d-9c38-44bfee79317c",
   "metadata": {},
   "outputs": [
    {
     "data": {
      "text/plain": [
       "['Sueña el rico en su riqueza,',\n",
       " 'que más cuidados le ofrece;',\n",
       " '',\n",
       " 'sueña el pobre que padece',\n",
       " 'su miseria y su pobreza;',\n",
       " '',\n",
       " 'sueña el que a medrar empieza,',\n",
       " 'sueña el que afana y pretende,',\n",
       " 'sueña el que agravia y ofende,',\n",
       " '',\n",
       " 'y en el mundo, en conclusión,',\n",
       " 'todos sueñan lo que son,',\n",
       " 'aunque ninguno lo entiende.',\n",
       " '']"
      ]
     },
     "execution_count": 70,
     "metadata": {},
     "output_type": "execute_result"
    }
   ],
   "source": [
    "lines"
   ]
  },
  {
   "cell_type": "code",
   "execution_count": 71,
   "id": "e2ce48ec-cc52-42e5-8f73-0bb61ec8ed3f",
   "metadata": {},
   "outputs": [],
   "source": [
    "f1 = open(path)"
   ]
  },
  {
   "cell_type": "code",
   "execution_count": 72,
   "id": "5ca1d4ba-ae22-4d8a-ba87-915b905a4f7a",
   "metadata": {},
   "outputs": [
    {
     "data": {
      "text/plain": [
       "'Sueña el r'"
      ]
     },
     "execution_count": 72,
     "metadata": {},
     "output_type": "execute_result"
    }
   ],
   "source": [
    "f1.read(10)"
   ]
  },
  {
   "cell_type": "code",
   "execution_count": 74,
   "id": "dea58ed9-6829-4253-a9d7-7483cfd8f4a5",
   "metadata": {},
   "outputs": [],
   "source": [
    "f2 = open(path, mode=\"rb\") # Binary mode"
   ]
  },
  {
   "cell_type": "code",
   "execution_count": 75,
   "id": "cef94c1b-683c-4fd6-ba9c-eb930f2a244f",
   "metadata": {},
   "outputs": [
    {
     "data": {
      "text/plain": [
       "b'Sue\\xc3\\xb1a el '"
      ]
     },
     "execution_count": 75,
     "metadata": {},
     "output_type": "execute_result"
    }
   ],
   "source": [
    "f2.read(10)"
   ]
  },
  {
   "cell_type": "code",
   "execution_count": 76,
   "id": "7fe86926-123f-4b68-8b41-71bdf98c9db4",
   "metadata": {},
   "outputs": [
    {
     "data": {
      "text/plain": [
       "11"
      ]
     },
     "execution_count": 76,
     "metadata": {},
     "output_type": "execute_result"
    }
   ],
   "source": [
    "f1.tell()"
   ]
  },
  {
   "cell_type": "code",
   "execution_count": 78,
   "id": "bb5ffe12-eb5f-443b-aa75-2bdb4802ddb6",
   "metadata": {},
   "outputs": [
    {
     "data": {
      "text/plain": [
       "10"
      ]
     },
     "execution_count": 78,
     "metadata": {},
     "output_type": "execute_result"
    }
   ],
   "source": [
    "f2.tell()"
   ]
  },
  {
   "cell_type": "code",
   "execution_count": 79,
   "id": "0e62e7c9-c5ea-4e40-b964-28ac9ca42dad",
   "metadata": {},
   "outputs": [],
   "source": [
    "import sys"
   ]
  },
  {
   "cell_type": "code",
   "execution_count": 81,
   "id": "23900ea9-3f00-4ff6-bb93-2494c1ebd38d",
   "metadata": {},
   "outputs": [
    {
     "data": {
      "text/plain": [
       "'utf-8'"
      ]
     },
     "execution_count": 81,
     "metadata": {},
     "output_type": "execute_result"
    }
   ],
   "source": [
    "sys.getdefaultencoding()"
   ]
  },
  {
   "cell_type": "code",
   "execution_count": 82,
   "id": "0a57f18e-fc1d-4e3c-9450-aa09a46d2076",
   "metadata": {},
   "outputs": [
    {
     "data": {
      "text/plain": [
       "3"
      ]
     },
     "execution_count": 82,
     "metadata": {},
     "output_type": "execute_result"
    }
   ],
   "source": [
    "f1.seek(3)"
   ]
  },
  {
   "cell_type": "code",
   "execution_count": 83,
   "id": "5f45bafb-523d-4b66-aca6-6a1993715a8b",
   "metadata": {},
   "outputs": [
    {
     "data": {
      "text/plain": [
       "'ñ'"
      ]
     },
     "execution_count": 83,
     "metadata": {},
     "output_type": "execute_result"
    }
   ],
   "source": [
    "f1.read(1)"
   ]
  },
  {
   "cell_type": "code",
   "execution_count": 84,
   "id": "98d7e9df-a313-49d8-bf76-f8fb407c69f8",
   "metadata": {},
   "outputs": [
    {
     "data": {
      "text/plain": [
       "5"
      ]
     },
     "execution_count": 84,
     "metadata": {},
     "output_type": "execute_result"
    }
   ],
   "source": [
    "f1.tell()"
   ]
  },
  {
   "cell_type": "code",
   "execution_count": 85,
   "id": "6e0b2389-be07-48bb-96d6-f03d0f9003e4",
   "metadata": {},
   "outputs": [],
   "source": [
    "f1.close()\n",
    "f2.close()"
   ]
  },
  {
   "cell_type": "code",
   "execution_count": 88,
   "id": "3c979ac5-37c9-46cf-be52-77df704f1157",
   "metadata": {},
   "outputs": [
    {
     "data": {
      "text/plain": [
       "'../examples/segismundo.txt'"
      ]
     },
     "execution_count": 88,
     "metadata": {},
     "output_type": "execute_result"
    }
   ],
   "source": [
    "path"
   ]
  },
  {
   "cell_type": "code",
   "execution_count": 90,
   "id": "4154e574-ec8b-4fa5-b82c-160f06b7165a",
   "metadata": {},
   "outputs": [],
   "source": [
    "with open(\"tmp.txt\", mode=\"w\") as handle:\n",
    "    handle.writelines(x for x in open(path) if len(x) > 1)"
   ]
  },
  {
   "cell_type": "code",
   "execution_count": 97,
   "id": "ff9e2c4a-e539-4d5c-a7e7-68e84782072e",
   "metadata": {},
   "outputs": [],
   "source": [
    "with open(\"tmp.txt\") as f:\n",
    "    lines = f.readlines()"
   ]
  },
  {
   "cell_type": "code",
   "execution_count": 107,
   "id": "30d40c89-d4df-4091-8dd0-72d6a55874ac",
   "metadata": {},
   "outputs": [],
   "source": [
    "lines =  [x.rstrip(\"\\n\") for x in lines]"
   ]
  },
  {
   "cell_type": "code",
   "execution_count": 114,
   "id": "e7b07d72-d248-4b5d-b4e6-1fcb57a5d3a0",
   "metadata": {},
   "outputs": [
    {
     "name": "stdout",
     "output_type": "stream",
     "text": [
      "Sueña el rico en su riqueza,\n",
      "que más cuidados le ofrece;\n",
      "sueña el pobre que padece\n",
      "su miseria y su pobreza;\n",
      "sueña el que a medrar empieza,\n",
      "sueña el que afana y pretende,\n",
      "sueña el que agravia y ofende,\n",
      "y en el mundo, en conclusión,\n",
      "todos sueñan lo que son,\n",
      "aunque ninguno lo entiende.\n"
     ]
    }
   ],
   "source": [
    "for line in lines:\n",
    "    print(line)"
   ]
  },
  {
   "cell_type": "code",
   "execution_count": 116,
   "id": "29eb3912-cf93-4aee-881f-ac5741cb4cd9",
   "metadata": {},
   "outputs": [
    {
     "data": {
      "text/plain": [
       "True"
      ]
     },
     "execution_count": 116,
     "metadata": {},
     "output_type": "execute_result"
    }
   ],
   "source": [
    "f.closed"
   ]
  },
  {
   "cell_type": "code",
   "execution_count": 117,
   "id": "4318c9f3-53b3-4446-9032-35c21c2eda31",
   "metadata": {},
   "outputs": [
    {
     "data": {
      "text/plain": [
       "'UTF-8'"
      ]
     },
     "execution_count": 117,
     "metadata": {},
     "output_type": "execute_result"
    }
   ],
   "source": [
    "f.encoding"
   ]
  },
  {
   "cell_type": "code",
   "execution_count": 121,
   "id": "ce4dd26d-3a4e-402a-bd1a-3537b50e9d78",
   "metadata": {},
   "outputs": [],
   "source": [
    "\n",
    "\n",
    "\n",
    "# Continue: Section 3.3 \n",
    "    # Bytes and Unicode with Files\n",
    "\n",
    "\n"
   ]
  },
  {
   "cell_type": "code",
   "execution_count": null,
   "id": "a3d778e2-bd87-4a32-9c31-428769b40115",
   "metadata": {},
   "outputs": [],
   "source": []
  },
  {
   "cell_type": "code",
   "execution_count": null,
   "id": "dc8bbec3-b43c-4b06-b8b9-2e2552154991",
   "metadata": {},
   "outputs": [],
   "source": []
  }
 ],
 "metadata": {
  "kernelspec": {
   "display_name": "Python 3 (ipykernel)",
   "language": "python",
   "name": "python3"
  },
  "language_info": {
   "codemirror_mode": {
    "name": "ipython",
    "version": 3
   },
   "file_extension": ".py",
   "mimetype": "text/x-python",
   "name": "python",
   "nbconvert_exporter": "python",
   "pygments_lexer": "ipython3",
   "version": "3.12.3"
  }
 },
 "nbformat": 4,
 "nbformat_minor": 5
}
